{
 "cells": [
  {
   "cell_type": "markdown",
   "id": "c8697b2f-d492-475a-b572-47689babd8bc",
   "metadata": {},
   "source": [
    "# Random data - synthetic demo\n",
    "\n",
    "This is a very simple demonstration of how to use `SimilaritySearch.jl`. The API correspond to version `0.8`"
   ]
  },
  {
   "cell_type": "code",
   "execution_count": 1,
   "id": "09dcdbb0-0c8d-41aa-8b1a-8740b9404d45",
   "metadata": {},
   "outputs": [
    {
     "name": "stderr",
     "output_type": "stream",
     "text": [
      "\u001b[32m\u001b[1m  Activating\u001b[22m\u001b[39m project at `~/Research/SimilaritySearchDemos/synthetic`\n",
      "\u001b[32m\u001b[1m   Resolving\u001b[22m\u001b[39m package versions...\n",
      "\u001b[32m\u001b[1m  No Changes\u001b[22m\u001b[39m to `~/Research/SimilaritySearchDemos/synthetic/Project.toml`\n",
      "\u001b[32m\u001b[1m  No Changes\u001b[22m\u001b[39m to `~/Research/SimilaritySearchDemos/synthetic/Manifest.toml`\n"
     ]
    }
   ],
   "source": [
    "using Pkg\n",
    "Pkg.activate(\".\")\n",
    "Pkg.add([\n",
    "    PackageSpec(name=\"SimilaritySearch\", version=\"0.10\")\n",
    "])\n",
    "\n",
    "using SimilaritySearch"
   ]
  },
  {
   "cell_type": "markdown",
   "id": "c971424e-acda-44af-937f-2e34e49eea54",
   "metadata": {},
   "source": [
    "# A random dataset\n",
    "Let us define a dataset of 8-dimensions and $10^5$ elements. Each object is a column. The matrix needs to be wrapped as a database since `SimilaritySearch` is distance agnostic and objects can be any representation. The matrix is not copied.\n"
   ]
  },
  {
   "cell_type": "code",
   "execution_count": 2,
   "id": "37e67c73-951d-46bf-86db-f65b94d67190",
   "metadata": {},
   "outputs": [
    {
     "data": {
      "text/plain": [
       "MatrixDatabase{Matrix{Float32}}(Float32[-0.7630596 0.2501615 … 0.44209227 -0.9475498; -0.42873305 1.2776356 … -0.43395448 1.1141217; … ; 1.5619737 0.09357595 … -0.4541717 0.5648302; -0.25632438 1.4236702 … -0.31651688 -0.2934293])"
      ]
     },
     "execution_count": 2,
     "metadata": {},
     "output_type": "execute_result"
    }
   ],
   "source": [
    "n = 100_000\n",
    "M = randn(Float32, 8, n)\n",
    "db = MatrixDatabase(M)"
   ]
  },
  {
   "cell_type": "code",
   "execution_count": null,
   "id": "ed09641a-fea4-483b-956a-3257272aee92",
   "metadata": {},
   "outputs": [],
   "source": []
  },
  {
   "cell_type": "markdown",
   "id": "89e0dfe1-26c1-4195-b1f2-005944f130e2",
   "metadata": {},
   "source": [
    "The database object mimics a vector of elements"
   ]
  },
  {
   "cell_type": "code",
   "execution_count": 3,
   "id": "6e8f5cfc-2b32-4581-a79a-a07a0729d672",
   "metadata": {},
   "outputs": [
    {
     "data": {
      "text/plain": [
       "(100000, AbstractVector{Float32}, SubArray{Float32, 1, Matrix{Float32}, Tuple{Base.Slice{Base.OneTo{Int64}}, Int64}, true})"
      ]
     },
     "execution_count": 3,
     "metadata": {},
     "output_type": "execute_result"
    }
   ],
   "source": [
    "length(db), eltype(db), typeof(db[1])"
   ]
  },
  {
   "cell_type": "markdown",
   "id": "9aa2d55b-d261-4081-8763-29afba11524f",
   "metadata": {},
   "source": [
    "The `SubArray` that results of `typeof(db[1])` means that each object is a column's `view`, and therefore there is no extra memory allocations.\n",
    "\n",
    "# Index construction\n",
    "\n",
    "An index is defined as follows"
   ]
  },
  {
   "cell_type": "code",
   "execution_count": 4,
   "id": "9b89ad52-49db-49d9-92cb-cff551898b21",
   "metadata": {},
   "outputs": [
    {
     "data": {
      "text/plain": [
       "SearchGraph{SqL2Distance, MatrixDatabase{Matrix{Float32}}, SimilaritySearch.AdjacencyLists.AdjacencyList{UInt32}, BeamSearch}\n",
       "  dist: SqL2Distance SqL2Distance()\n",
       "  db: MatrixDatabase{Matrix{Float32}}\n",
       "  adj: SimilaritySearch.AdjacencyLists.AdjacencyList{UInt32}\n",
       "  hints: Array{Int32}((0,)) Int32[]\n",
       "  search_algo: BeamSearch\n",
       "  len: Base.RefValue{Int64}\n",
       "  verbose: Bool false\n"
      ]
     },
     "execution_count": 4,
     "metadata": {},
     "output_type": "execute_result"
    }
   ],
   "source": [
    "dist = SqL2Distance()\n",
    "G = SearchGraph(; db, dist, verbose=false)"
   ]
  },
  {
   "cell_type": "markdown",
   "id": "dcc6ee47-bd91-4d23-9523-144115b3e7fb",
   "metadata": {},
   "source": [
    "The `SearchGraph` index has an incremental construction that contains a list of callbacks that are called at exponential steps. By default it uses `OptimizeParameters(kind=ParetoRecall())` such that our index try to optimize jointly search speed and recall. It is also possible to optimize for a minimum recall with `MinRecall(0.9)` for a construction that will try to reach 0.9 of recall (using the same dataset as gold standard).\n",
    "\n",
    "The index is defined, it needs to be constructed as follows (please note that the construction can output a lot of information):"
   ]
  },
  {
   "cell_type": "code",
   "execution_count": 5,
   "id": "010c2b92-f336-4007-960c-87c86724d6a1",
   "metadata": {},
   "outputs": [
    {
     "data": {
      "text/plain": [
       "SearchGraph{SqL2Distance, MatrixDatabase{Matrix{Float32}}, SimilaritySearch.AdjacencyLists.AdjacencyList{UInt32}, BeamSearch}\n",
       "  dist: SqL2Distance SqL2Distance()\n",
       "  db: MatrixDatabase{Matrix{Float32}}\n",
       "  adj: SimilaritySearch.AdjacencyLists.AdjacencyList{UInt32}\n",
       "  hints: Array{Int32}((112,)) Int32[227, 236, 247, 259, 325, 354, 374, 401, 544, 573  …  6643, 6661, 6696, 6697, 6752, 6769, 6774, 6898, 6903, 6956]\n",
       "  search_algo: BeamSearch\n",
       "  len: Base.RefValue{Int64}\n",
       "  verbose: Bool false\n"
      ]
     },
     "execution_count": 5,
     "metadata": {},
     "output_type": "execute_result"
    }
   ],
   "source": [
    "# index!(G, callbacks=SearchGraphCallbacks(hyperparameters=OptimizeParameters(kind=MinRecall(0.9))))\n",
    "index!(G)"
   ]
  },
  {
   "cell_type": "markdown",
   "id": "45b9498d-df26-4b13-a7ec-caf6c1f63d71",
   "metadata": {},
   "source": [
    "# Searching\n",
    "\n",
    "Searching can be performed with methods `search` and `searchbatch`. Both are pretty similar, the first one solves a single query and the second method solves a batch of queries. "
   ]
  },
  {
   "cell_type": "code",
   "execution_count": 6,
   "id": "e3458ae5-0d32-4e0a-967a-bcbcbdcc34fe",
   "metadata": {},
   "outputs": [
    {
     "data": {
      "text/plain": [
       "((10, 3), (10, 3))"
      ]
     },
     "execution_count": 6,
     "metadata": {},
     "output_type": "execute_result"
    }
   ],
   "source": [
    "I, D = searchbatch(G, MatrixDatabase(rand(8, 3)), 10)\n",
    "size(I), size(D)"
   ]
  },
  {
   "cell_type": "markdown",
   "id": "2a08b651-5be2-4fe6-8421-d005d732a091",
   "metadata": {},
   "source": [
    "It returns two matrices of size $10 \\times 3$ (10nn of the three given queries). Please note that our dataset is composed of Vector of Float32 elements and we are asking for Float64 vector queries. This is allowed due to the automatic specialization of Julia, but it may impact on the performance (due to SIMD ops.)"
   ]
  },
  {
   "cell_type": "markdown",
   "id": "0d6477b8-2d29-4f01-807d-a3a94aa349b9",
   "metadata": {},
   "source": [
    "A similar way to search is using an array of queries"
   ]
  },
  {
   "cell_type": "code",
   "execution_count": 7,
   "id": "054b2221-f83f-4098-89b8-eeffc490998d",
   "metadata": {},
   "outputs": [
    {
     "data": {
      "text/plain": [
       "((10, 3), (10, 3))"
      ]
     },
     "execution_count": 7,
     "metadata": {},
     "output_type": "execute_result"
    }
   ],
   "source": [
    "I, D = searchbatch(G, MatrixDatabase(rand(Float32, 8, 3)), 10)\n",
    "size(I), size(D)"
   ]
  },
  {
   "cell_type": "code",
   "execution_count": null,
   "id": "2caa68b8-3231-4f02-a902-3afab1a185ba",
   "metadata": {},
   "outputs": [],
   "source": []
  },
  {
   "cell_type": "markdown",
   "id": "28bc80aa-9066-4243-b680-0247711857e4",
   "metadata": {},
   "source": [
    "Note: Querying directly for rand(8, 3) will perform unexpected results. Note: the cannonical way to perform queries `searchbatch` is the first one (wrapping the queryset with a MatrixDatabase) and the second form should be used only for fast scripting since it always.\n",
    "\n",
    "## Single queries\n",
    "The function `search` solves single queries, specified and stored with a `KnnResult` struct."
   ]
  },
  {
   "cell_type": "code",
   "execution_count": 8,
   "id": "b7cdfddc-1465-4f59-b8f3-137312b6d060",
   "metadata": {},
   "outputs": [
    {
     "data": {
      "text/plain": [
       "KnnResult(IdWeight[IdWeight(0x00002c04, 0.34546858f0), IdWeight(0x0000b7cb, 0.3788787f0), IdWeight(0x0000dbe1, 0.4203803f0), IdWeight(0x00001691, 0.47034025f0), IdWeight(0x00015493, 0.50981396f0), IdWeight(0x00005fc9, 0.5403733f0), IdWeight(0x00016b0a, 0.58243275f0), IdWeight(0x000050c6, 0.5837985f0), IdWeight(0x00002bbc, 0.5849759f0), IdWeight(0x0001500b, 0.62225896f0)], 10)"
      ]
     },
     "execution_count": 8,
     "metadata": {},
     "output_type": "execute_result"
    }
   ],
   "source": [
    "res = search(G, rand(Float32, 8), KnnResult(10)).res"
   ]
  },
  {
   "cell_type": "markdown",
   "id": "a24a29d1-2b7f-419e-a8b5-555e56772f65",
   "metadata": {},
   "source": [
    "The function `search` returns the struct passed as argument (`KnnResult(10)`) and the number of distance evaluations performed to solve it.\n",
    "\n",
    "The `res` object has several related functions, but internally, it contains identifiers and distances. The identifiers are indexes in the database to access the retrieved nearest neighbors; and its respective distances to the query. `KnnResult` objects can be iterated at accessed by position."
   ]
  },
  {
   "cell_type": "code",
   "execution_count": 9,
   "id": "c9b2364d-8833-470f-bb87-39857a8a00a9",
   "metadata": {},
   "outputs": [
    {
     "data": {
      "text/markdown": [
       "\n",
       "- Nearest neighbor pair: `IdWeight(0x00002c04, 0.34546858f0)`\n",
       "- argmin: 11268, minimum: 0.34546858\n",
       "- argmax: 86027, maximum: 0.62225896\n",
       "- 1nn: IdWeight(0x00002c04, 0.34546858f0), 2nn: IdWeight(0x0000b7cb, 0.3788787f0)), last: IdWeight(0x0001500b, 0.62225896f0)\n",
       "- knns: IdView(KnnResult(IdWeight[IdWeight(0x00002c04, 0.34546858f0), IdWeight(0x0000b7cb, 0.3788787f0), IdWeight(0x0000dbe1, 0.4203803f0), IdWeight(0x00001691, 0.47034025f0), IdWeight(0x00015493, 0.50981396f0), IdWeight(0x00005fc9, 0.5403733f0), IdWeight(0x00016b0a, 0.58243275f0), IdWeight(0x000050c6, 0.5837985f0), IdWeight(0x00002bbc, 0.5849759f0), IdWeight(0x0001500b, 0.62225896f0)], 10))\n",
       "- dists: DistView(KnnResult(IdWeight[IdWeight(0x00002c04, 0.34546858f0), IdWeight(0x0000b7cb, 0.3788787f0), IdWeight(0x0000dbe1, 0.4203803f0), IdWeight(0x00001691, 0.47034025f0), IdWeight(0x00015493, 0.50981396f0), IdWeight(0x00005fc9, 0.5403733f0), IdWeight(0x00016b0a, 0.58243275f0), IdWeight(0x000050c6, 0.5837985f0), IdWeight(0x00002bbc, 0.5849759f0), IdWeight(0x0001500b, 0.62225896f0)], 10))\n",
       "    \n",
       "\n",
       "The `KnnResult` is a priority queue that stores at most `k` pairs.\n",
       "You can modify it using `push!`, `pop!` and `popfirst!`\n",
       "\n"
      ]
     },
     "metadata": {},
     "output_type": "display_data"
    },
    {
     "data": {
      "text/plain": [
       "(:popfirst! => IdWeight(0x00002c04, 0.34546858f0), :res => KnnResult(IdWeight[IdWeight(0x0000b7cb, 0.3788787f0), IdWeight(0x0000dbe1, 0.4203803f0), IdWeight(0x00001691, 0.47034025f0), IdWeight(0x00015493, 0.50981396f0), IdWeight(0x00005fc9, 0.5403733f0), IdWeight(0x00016b0a, 0.58243275f0), IdWeight(0x000050c6, 0.5837985f0), IdWeight(0x00002bbc, 0.5849759f0), IdWeight(0x0001500b, 0.62225896f0)], 10), length => 9)"
      ]
     },
     "metadata": {},
     "output_type": "display_data"
    },
    {
     "data": {
      "text/plain": [
       "(:pop! => IdWeight(0x0001500b, 0.62225896f0), :res => KnnResult(IdWeight[IdWeight(0x0000b7cb, 0.3788787f0), IdWeight(0x0000dbe1, 0.4203803f0), IdWeight(0x00001691, 0.47034025f0), IdWeight(0x00015493, 0.50981396f0), IdWeight(0x00005fc9, 0.5403733f0), IdWeight(0x00016b0a, 0.58243275f0), IdWeight(0x000050c6, 0.5837985f0), IdWeight(0x00002bbc, 0.5849759f0)], 10), :length => 8)"
      ]
     },
     "metadata": {},
     "output_type": "display_data"
    },
    {
     "data": {
      "text/plain": [
       ":after_push! => KnnResult(IdWeight[IdWeight(0x00000001, 0.0f0), IdWeight(0x0000b7cb, 0.3788787f0), IdWeight(0x0000dbe1, 0.4203803f0), IdWeight(0x00001691, 0.47034025f0), IdWeight(0x00015493, 0.50981396f0), IdWeight(0x00005fc9, 0.5403733f0), IdWeight(0x00016b0a, 0.58243275f0), IdWeight(0x000050c6, 0.5837985f0), IdWeight(0x00002bbc, 0.5849759f0), IdWeight(0x00000002, 1.0f6)], 10)"
      ]
     },
     "metadata": {},
     "output_type": "display_data"
    },
    {
     "data": {
      "text/markdown": [
       "### You can also iterate the result set and access to the indexed dataset"
      ]
     },
     "metadata": {},
     "output_type": "display_data"
    },
    {
     "name": "stdout",
     "output_type": "stream",
     "text": [
      "1 => (0.0f0, Float32[-0.7630596, -0.42873305, -0.16345312, -0.30858696, -0.59181386, 1.7422782, 1.5619737, -0.25632438])\n",
      "2 => (0.3788787f0, Float32[0.62754375, 0.9978854, 0.6051406, 0.5104975, 0.48214805, 0.6172233, 0.8566184, -0.0988432])\n",
      "3 => (0.4203803f0, Float32[0.40087703, 0.7620401, 0.5171964, -0.012335303, 0.5355121, 0.4249623, 1.122061, 0.40317476])\n",
      "4 => (0.47034025f0, Float32[0.639298, 0.8764266, 1.16921, 0.23474234, 0.62843925, 0.40918884, 0.4388563, 0.03813715])\n",
      "5 => (0.50981396f0, Float32[0.36410972, 0.91254157, 0.6256755, -0.0242322, 0.19040246, 0.4812591, 0.617917, 0.6650715])\n",
      "6 => (0.5403733f0, Float32[0.117136024, 0.9634689, 1.1168529, 0.6943728, 0.7118387, 0.64946336, 0.47406694, 0.3585967])\n",
      "7 => (0.58243275f0, Float32[0.48408374, 0.8917867, 0.664812, 0.871713, 0.5335689, 0.55054533, 0.78279185, -0.21962304])\n",
      "8 => (0.5837985f0, Float32[0.11780816, 0.39372015, 0.687422, 0.4780256, 0.68495995, -0.0010389228, 0.88268745, 0.013796319])\n",
      "9 => (0.5849759f0, Float32[0.54255056, 1.1989397, 1.3158412, 0.36316907, 0.5220827, 0.07560702, 0.81050074, -0.010607008])\n",
      "10 => (1.0f6, Float32[0.2501615, 1.2776356, -0.3605025, 0.044148903, 1.2422066, -0.35811687, 0.09357595, 1.4236702])\n"
     ]
    }
   ],
   "source": [
    "display(\"text/markdown\", \"\"\"\n",
    "\n",
    "- Nearest neighbor pair: `$(first(res))`\n",
    "- argmin: $(argmin(res)), minimum: $(minimum(res))\n",
    "- argmax: $(argmax(res)), maximum: $(maximum(res))\n",
    "- 1nn: $(first(res)), 2nn: $(res[2])), last: $(last(res))\n",
    "- knns: $(IdView(res))\n",
    "- dists: $(DistView(res))\n",
    "    \n",
    "\n",
    "The `KnnResult` is a priority queue that stores at most `k` pairs.\n",
    "You can modify it using `push!`, `pop!` and `popfirst!`\n",
    "\n",
    "\"\"\")\n",
    "\n",
    "display((:popfirst! => popfirst!(res), :res => res, length => length(res)))\n",
    "display((:pop! => pop!(res), :res => res, :length => length(res)))\n",
    "push_item!(res, 1, 0.0)\n",
    "push_item!(res, 2, 1e6)\n",
    "display(:after_push! => res)\n",
    "display(\"text/markdown\", \"### You can also iterate the result set and access to the indexed dataset\")\n",
    "for (i, p) in enumerate(res)\n",
    "    println(i => (p.weight, G[p.id]))\n",
    "end\n",
    "\n",
    "\n"
   ]
  }
 ],
 "metadata": {
  "kernelspec": {
   "display_name": "Julia 1.9.0",
   "language": "julia",
   "name": "julia-1.9"
  },
  "language_info": {
   "file_extension": ".jl",
   "mimetype": "application/julia",
   "name": "julia",
   "version": "1.9.0"
  }
 },
 "nbformat": 4,
 "nbformat_minor": 5
}
